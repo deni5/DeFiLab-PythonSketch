{
 "cells": [
  {
   "cell_type": "code",
   "execution_count": 1,
   "metadata": {},
   "outputs": [
    {
     "name": "stdout",
     "output_type": "stream",
     "text": [
      "Реєстраційна інформація про компанію:\n",
      "Назва компанії: Apple Inc.\n",
      "Сектор: Technology\n",
      "Галузь: Consumer Electronics\n",
      "Місцезнаходження: Cupertino, United States\n",
      "Вебсайт: https://www.apple.com\n",
      "Ринкова капіталізація: 3531049271296\n",
      "Телефон: (408) 996-1010\n",
      "Адреса: One Apple Park Way\n"
     ]
    }
   ],
   "source": [
    "import yfinance as yf\n",
    "\n",
    "def get_company_info(ticker_symbol):\n",
    "    \"\"\"\n",
    "    Отримує реєстраційну інформацію про компанію за її тикером.\n",
    "\n",
    "    Args:\n",
    "        ticker_symbol (str): Тікер компанії (наприклад, \"AAPL\" для Apple).\n",
    "\n",
    "    Returns:\n",
    "        dict: Словник з інформацією про компанію або повідомлення про помилку.\n",
    "    \"\"\"\n",
    "    try:\n",
    "        # Завантаження даних про компанію\n",
    "        ticker = yf.Ticker(ticker_symbol)\n",
    "        info = ticker.info\n",
    "\n",
    "        # Виділення основної інформації\n",
    "        company_info = {\n",
    "            \"Назва компанії\": info.get(\"longName\", \"Не вказано\"),\n",
    "            \"Сектор\": info.get(\"sector\", \"Не вказано\"),\n",
    "            \"Галузь\": info.get(\"industry\", \"Не вказано\"),\n",
    "            \"Місцезнаходження\": info.get(\"city\", \"\") + \", \" + info.get(\"country\", \"\"),\n",
    "            \"Вебсайт\": info.get(\"website\", \"Не вказано\"),\n",
    "            \"Ринкова капіталізація\": info.get(\"marketCap\", \"Не вказано\"),\n",
    "            \"Телефон\": info.get(\"phone\", \"Не вказано\"),\n",
    "            \"Адреса\": info.get(\"address1\", \"Не вказано\"),\n",
    "        }\n",
    "\n",
    "        return company_info\n",
    "\n",
    "    except Exception as e:\n",
    "        return {\"Помилка\": str(e)}\n",
    "\n",
    "# Виклик функції для отримання інформації\n",
    "if __name__ == \"__main__\":\n",
    "    ticker_symbol = \"AAPL\"  # Заміни на потрібний тікер\n",
    "    company_info = get_company_info(ticker_symbol)\n",
    "\n",
    "    print(\"Реєстраційна інформація про компанію:\")\n",
    "    for key, value in company_info.items():\n",
    "        print(f\"{key}: {value}\")\n"
   ]
  },
  {
   "cell_type": "code",
   "execution_count": null,
   "metadata": {},
   "outputs": [],
   "source": []
  }
 ],
 "metadata": {
  "kernelspec": {
   "display_name": "cv2env",
   "language": "python",
   "name": "cv2env"
  },
  "language_info": {
   "codemirror_mode": {
    "name": "ipython",
    "version": 3
   },
   "file_extension": ".py",
   "mimetype": "text/x-python",
   "name": "python",
   "nbconvert_exporter": "python",
   "pygments_lexer": "ipython3",
   "version": "3.12.2"
  },
  "orig_nbformat": 4
 },
 "nbformat": 4,
 "nbformat_minor": 2
}
