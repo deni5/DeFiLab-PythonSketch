{
 "cells": [
  {
   "cell_type": "code",
   "execution_count": 18,
   "metadata": {},
   "outputs": [
    {
     "name": "stdout",
     "output_type": "stream",
     "text": [
      "Піксель-арт збережено тут: /var/folders/m6/cqv1zhq10ds_r6drrn1y2vzw0000gn/T/tmphbsc8nb4.png\n"
     ]
    }
   ],
   "source": [
    "from PIL import Image, ImageEnhance\n",
    "import tempfile\n",
    "\n",
    "def image_to_pixel_art(image_path, pixel_size=20, enhance_colors=True, color_factor=1.5):\n",
    "    \"\"\"Перетворення зображення у піксель-арт з підсиленням кольорів та постеризацією.\"\"\"\n",
    "    try:\n",
    "        image = Image.open(image_path)\n",
    "    except Exception as e:\n",
    "        print(f\"Не вдалося відкрити зображення: {e}\")\n",
    "        return\n",
    "\n",
    "    # Посилення кольорів\n",
    "    if enhance_colors:\n",
    "        enhancer = ImageEnhance.Color(image)\n",
    "        image = enhancer.enhance(color_factor)\n",
    "\n",
    "    # Постеризація: обмеження кольорів до основних\n",
    "    image = image.convert(\"P\", palette=Image.ADAPTIVE, colors=20)  # 16 базових кольорів\n",
    "\n",
    "    # Зменшення розміру для створення піксельного ефекту\n",
    "    small_image = image.resize(\n",
    "        (image.width // pixel_size, image.height // pixel_size), Image.NEAREST\n",
    "    )\n",
    "\n",
    "    # Збільшення назад до оригінального розміру\n",
    "    pixel_art = small_image.resize(image.size, Image.NEAREST)\n",
    "    return pixel_art\n",
    "\n",
    "# Вказівка шляху до зображення\n",
    "image_path = \"/Users/mac/Documents/Univer/Photo virovets 23.png\"\n",
    "\n",
    "# Генерація піксель-арту (pixel_size визначає розмірність пікселя)\n",
    "pixel_art = image_to_pixel_art(image_path, pixel_size=30, enhance_colors=True, color_factor=2.0)\n",
    "if pixel_art:\n",
    "    pixel_art.show()  # Відображення піксель-арту\n",
    "\n",
    "    # Збереження у тимчасовий файл\n",
    "    with tempfile.NamedTemporaryFile(delete=False, suffix=\".png\") as temp_file:\n",
    "        pixel_art.save(temp_file.name)\n",
    "        print(f\"Піксель-арт збережено тут: {temp_file.name}\")\n",
    "\n",
    "\n",
    "\n"
   ]
  },
  {
   "cell_type": "code",
   "execution_count": 23,
   "metadata": {},
   "outputs": [
    {
     "data": {
      "image/png": "[encoded data removed]",
      "text/plain": [
       "<Figure size 640x480 with 1 Axes>"
      ]
     },
     "metadata": {},
     "output_type": "display_data"
    },
    {
     "name": "stdout",
     "output_type": "stream",
     "text": [
      "Піксель-арт збережено тут: /var/folders/m6/cqv1zhq10ds_r6drrn1y2vzw0000gn/T/tmpw0xfivgn.png\n"
     ]
    }
   ],
   "source": [
    "from PIL import Image, ImageEnhance\n",
    "import tempfile\n",
    "import matplotlib.pyplot as plt\n",
    "\n",
    "def image_to_pixel_art(image_path, pixel_size=20, enhance_colors=True, color_factor=1.5):\n",
    "    \"\"\"Перетворення зображення у піксель-арт з підсиленням кольорів та постеризацією.\"\"\"\n",
    "    try:\n",
    "        image = Image.open(image_path)\n",
    "    except Exception as e:\n",
    "        print(f\"Не вдалося відкрити зображення: {e}\")\n",
    "        return\n",
    "\n",
    "    # Посилення кольорів\n",
    "    if enhance_colors:\n",
    "        enhancer = ImageEnhance.Color(image)\n",
    "        image = enhancer.enhance(color_factor)\n",
    "\n",
    "    # Постеризація: обмеження кольорів до основних\n",
    "    image = image.convert(\"P\", palette=Image.ADAPTIVE, colors=14)  # 16 базових кольорів\n",
    "\n",
    "    # Зменшення розміру для створення піксельного ефекту\n",
    "    small_image = image.resize(\n",
    "        (image.width // pixel_size, image.height // pixel_size), Image.NEAREST\n",
    "    )\n",
    "\n",
    "    # Збільшення назад до оригінального розміру\n",
    "    pixel_art = small_image.resize(image.size, Image.NEAREST)\n",
    "    return pixel_art\n",
    "\n",
    "# Вказівка шляху до зображення\n",
    "image_path = \"/Users/mac/Documents/Univer/Photo virovets 23.png\"\n",
    "\n",
    "# Генерація піксель-арту\n",
    "pixel_art = image_to_pixel_art(image_path, pixel_size=30, enhance_colors=True, color_factor=2.0)\n",
    "if pixel_art:\n",
    "    # Використання matplotlib для відображення\n",
    "    plt.imshow(pixel_art)\n",
    "    plt.axis('off')  # Прибрати осі\n",
    "    plt.show()\n",
    "\n",
    "    # Збереження у тимчасовий файл\n",
    "    with tempfile.NamedTemporaryFile(delete=False, suffix=\".png\") as temp_file:\n",
    "        pixel_art.save(temp_file.name)\n",
    "        print(f\"Піксель-арт збережено тут: {temp_file.name}\")\n"
   ]
  }
 ],
 "metadata": {
  "kernelspec": {
   "display_name": "cv2env",
   "language": "python",
   "name": "cv2env"
  },
  "language_info": {
   "codemirror_mode": {
    "name": "ipython",
    "version": 3
   },
   "file_extension": ".py",
   "mimetype": "text/x-python",
   "name": "python",
   "nbconvert_exporter": "python",
   "pygments_lexer": "ipython3",
   "version": "3.12.2"
  },
  "orig_nbformat": 4
 },
 "nbformat": 4,
 "nbformat_minor": 2
}
